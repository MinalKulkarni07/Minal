{
 "cells": [
  {
   "cell_type": "code",
   "execution_count": 1,
   "id": "e5554451-7498-44e2-a5be-0909bc97f340",
   "metadata": {},
   "outputs": [
    {
     "name": "stdout",
     "output_type": "stream",
     "text": [
      "M\n",
      "i\n",
      "n\n",
      "a\n",
      "l\n",
      "k\n",
      "u\n",
      "l\n",
      "k\n",
      "a\n",
      "r\n",
      "n\n",
      "i\n"
     ]
    }
   ],
   "source": [
    "web = \"Minalkulkarni\"\n",
    "for i in web:\n",
    "    print(i)"
   ]
  },
  {
   "cell_type": "code",
   "execution_count": 2,
   "id": "10a4ec8e-2295-4d0f-ae3b-f1ac43658b45",
   "metadata": {},
   "outputs": [
    {
     "name": "stdout",
     "output_type": "stream",
     "text": [
      "0\n",
      "1\n",
      "2\n",
      "3\n",
      "4\n",
      "5\n",
      "6\n",
      "7\n",
      "8\n",
      "9\n"
     ]
    }
   ],
   "source": [
    "# range(Endvalue) # start 0\n",
    "for i in range(10):\n",
    "    print(i)"
   ]
  },
  {
   "cell_type": "code",
   "execution_count": 3,
   "id": "7449df69-2907-42d3-8888-61a32614e2a4",
   "metadata": {},
   "outputs": [
    {
     "name": "stdout",
     "output_type": "stream",
     "text": [
      "10\n",
      "11\n",
      "12\n",
      "13\n",
      "14\n",
      "15\n",
      "16\n",
      "17\n",
      "18\n",
      "19\n",
      "20\n",
      "21\n",
      "22\n"
     ]
    }
   ],
   "source": [
    "#range(start,end)\n",
    "\n",
    "for i in range(10,23):\n",
    "    print(i)"
   ]
  },
  {
   "cell_type": "code",
   "execution_count": 5,
   "id": "ebff55cb-2a6d-4bb5-b3fe-b4aca9fa1c0a",
   "metadata": {},
   "outputs": [
    {
     "name": "stdout",
     "output_type": "stream",
     "text": [
      "1\n",
      "3\n",
      "5\n",
      "7\n",
      "9\n"
     ]
    }
   ],
   "source": [
    "# range(start,end,steps)\n",
    "for i in range(1,10,2):\n",
    "   print(i)\n",
    "   \n",
    "     "
   ]
  },
  {
   "cell_type": "code",
   "execution_count": 6,
   "id": "2805d961-470d-4ac3-b391-4b81bac04d20",
   "metadata": {},
   "outputs": [
    {
     "name": "stdin",
     "output_type": "stream",
     "text": [
      "Enter start number 12\n",
      "Enter end number 24\n"
     ]
    },
    {
     "name": "stdout",
     "output_type": "stream",
     "text": [
      "12\n",
      "13\n",
      "14\n",
      "15\n",
      "16\n",
      "17\n",
      "18\n",
      "19\n",
      "20\n",
      "21\n",
      "22\n",
      "23\n",
      "24\n"
     ]
    }
   ],
   "source": [
    "# take user input\n",
    "start = int(input(\"Enter start number\"))\n",
    "end = int(input(\"Enter end number\"))\n",
    "\n",
    "for i in range(start,end+1):\n",
    "    print(i)"
   ]
  },
  {
   "cell_type": "code",
   "execution_count": 7,
   "id": "fc23d795-4f92-4697-85af-6c931192e876",
   "metadata": {},
   "outputs": [
    {
     "name": "stdout",
     "output_type": "stream",
     "text": [
      "1 2 3 4 5 6 7 8 9 10 11 12 13 14 15 16 17 18 19 20 "
     ]
    }
   ],
   "source": [
    "# end=' '\n",
    "\n",
    "for i in range(1,21):\n",
    "    print(i,end=' ')"
   ]
  },
  {
   "cell_type": "code",
   "execution_count": 8,
   "id": "c2aec368-4b0c-4c5b-b196-5a0f7bd6bf92",
   "metadata": {},
   "outputs": [
    {
     "name": "stdout",
     "output_type": "stream",
     "text": [
      "1\n",
      "2\n",
      "3\n",
      "4\n",
      "5\n",
      "6\n",
      "7\n",
      "8\n",
      "9\n",
      "10\n"
     ]
    }
   ],
   "source": [
    "# while loop\n",
    "# start point\n",
    "# end point\n",
    "# output\n",
    "#+/-\n",
    "\n",
    "i = 1\n",
    "while(i <= 10):\n",
    "    print(i)\n",
    "    i = i + 1"
   ]
  },
  {
   "cell_type": "code",
   "execution_count": 10,
   "id": "6720d7b3-b2b9-4cae-8a9e-4629eff70993",
   "metadata": {},
   "outputs": [
    {
     "name": "stdout",
     "output_type": "stream",
     "text": [
      "MinalKulkarni\n",
      "Minal\n"
     ]
    }
   ],
   "source": [
    "# function basic\n",
    "# def functionname()\n",
    "    # output\n",
    "\n",
    "def info():\n",
    "    print(\"MinalKulkarni\")\n",
    "    print(\"Minal\")\n",
    "\n",
    "# call the function\n",
    "info()\n"
   ]
  },
  {
   "cell_type": "code",
   "execution_count": 11,
   "id": "e5e03f80-bf09-422f-9f1d-1de7915335d5",
   "metadata": {},
   "outputs": [
    {
     "name": "stdout",
     "output_type": "stream",
     "text": [
      "396\n"
     ]
    }
   ],
   "source": [
    "# with arguments\n",
    "\n",
    "def add(num1,num2):\n",
    "    print(num1+num2)\n",
    "\n",
    "add(340,56)"
   ]
  },
  {
   "cell_type": "code",
   "execution_count": 12,
   "id": "ad0b82d5-e464-4e51-9efb-6b2c81e4db03",
   "metadata": {},
   "outputs": [
    {
     "name": "stdout",
     "output_type": "stream",
     "text": [
      "this is number: 520\n"
     ]
    }
   ],
   "source": [
    "# return type\n",
    "\n",
    "def get_number():\n",
    "    return 520\n",
    "\n",
    "print(\"this is number:\",get_number())"
   ]
  },
  {
   "cell_type": "code",
   "execution_count": 2,
   "id": "2a4d2bde-25a2-4268-b67f-37dadfc4950a",
   "metadata": {},
   "outputs": [],
   "source": [
    "# return type end with arguments\n",
    "\n",
    "def get_result(total,percentage):\n",
    "    f_total = total*percentage/100\n",
    "    f_total = total+ f_total\n",
    "    return f_total"
   ]
  },
  {
   "cell_type": "code",
   "execution_count": 3,
   "id": "c224e55e-c908-4ff6-9621-d8112145b972",
   "metadata": {},
   "outputs": [
    {
     "name": "stdout",
     "output_type": "stream",
     "text": [
      "This is main result 6136.0\n",
      "This is main result 6456.0\n"
     ]
    }
   ],
   "source": [
    "final = get_result(5200,18)\n",
    "\n",
    "m_final = 320 + final\n",
    "print('This is main result',final)\n",
    "print('This is main result',m_final)"
   ]
  },
  {
   "cell_type": "code",
   "execution_count": null,
   "id": "43b691f7-54e6-4528-bba1-11e5985968f4",
   "metadata": {},
   "outputs": [],
   "source": []
  }
 ],
 "metadata": {
  "kernelspec": {
   "display_name": "Python 3 (ipykernel)",
   "language": "python",
   "name": "python3"
  },
  "language_info": {
   "codemirror_mode": {
    "name": "ipython",
    "version": 3
   },
   "file_extension": ".py",
   "mimetype": "text/x-python",
   "name": "python",
   "nbconvert_exporter": "python",
   "pygments_lexer": "ipython3",
   "version": "3.12.7"
  }
 },
 "nbformat": 4,
 "nbformat_minor": 5
}
