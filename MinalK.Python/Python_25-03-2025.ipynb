{
 "cells": [
  {
   "cell_type": "code",
   "execution_count": 4,
   "id": "678d478a-af4b-4e5e-be6d-b5a9cf121b96",
   "metadata": {},
   "outputs": [
    {
     "name": "stdout",
     "output_type": "stream",
     "text": [
      "2025-03-25 13:53:39.720562\n"
     ]
    }
   ],
   "source": [
    "# Date and Time in python\n",
    "\n",
    "import datetime\n",
    "\n",
    "# Get current date and time\n",
    "now = datetime.datetime.now()\n",
    "print(now)"
   ]
  },
  {
   "cell_type": "code",
   "execution_count": 10,
   "id": "7837355e-a8ce-4cd5-8ef8-5a9f7cb1f2a9",
   "metadata": {},
   "outputs": [
    {
     "name": "stdout",
     "output_type": "stream",
     "text": [
      "3\n",
      "25\n",
      "2025\n",
      "13\n",
      "53\n",
      "39\n"
     ]
    }
   ],
   "source": [
    "# get only month \n",
    "print(now.month)\n",
    "\n",
    "# get only day\n",
    "print(now.day)\n",
    "\n",
    "# get only year\n",
    "print(now.year)\n",
    "\n",
    "# get only hour\n",
    "print(now.hour)\n",
    "\n",
    "# get only minute\n",
    "print(now.minute)\n",
    "\n",
    "# get only second\n",
    "print(now.second)"
   ]
  },
  {
   "cell_type": "code",
   "execution_count": 14,
   "id": "9c7a501d-99ae-43a3-97d3-270a9449b7a6",
   "metadata": {},
   "outputs": [
    {
     "name": "stdout",
     "output_type": "stream",
     "text": [
      "2025-03-25\n",
      "13-53-39\n",
      "March\n"
     ]
    }
   ],
   "source": [
    "# get complete date \n",
    "print(now.strftime(\"%Y-%m-%d\"))\n",
    "\n",
    "# get only time\n",
    "print(now.strftime(\"%H-%M-%S\"))\n",
    "\n",
    "# get month name in character\n",
    "print(now.strftime(\"%B\"))"
   ]
  },
  {
   "cell_type": "code",
   "execution_count": 17,
   "id": "4326c57f-b1bf-4258-9ffc-c5e99480ebec",
   "metadata": {},
   "outputs": [
    {
     "name": "stdout",
     "output_type": "stream",
     "text": [
      "     March 2025\n",
      "Mo Tu We Th Fr Sa Su\n",
      "                1  2\n",
      " 3  4  5  6  7  8  9\n",
      "10 11 12 13 14 15 16\n",
      "17 18 19 20 21 22 23\n",
      "24 25 26 27 28 29 30\n",
      "31\n",
      "\n"
     ]
    }
   ],
   "source": [
    "# show calendar\n",
    "import calendar \n",
    "print(calendar.month(2025,3))"
   ]
  },
  {
   "cell_type": "code",
   "execution_count": 18,
   "id": "ae38c5d0-a377-49a8-b3ed-e1b94918c6b0",
   "metadata": {},
   "outputs": [
    {
     "name": "stdout",
     "output_type": "stream",
     "text": [
      "                                  1999\n",
      "\n",
      "      January                   February                   March\n",
      "Mo Tu We Th Fr Sa Su      Mo Tu We Th Fr Sa Su      Mo Tu We Th Fr Sa Su\n",
      "             1  2  3       1  2  3  4  5  6  7       1  2  3  4  5  6  7\n",
      " 4  5  6  7  8  9 10       8  9 10 11 12 13 14       8  9 10 11 12 13 14\n",
      "11 12 13 14 15 16 17      15 16 17 18 19 20 21      15 16 17 18 19 20 21\n",
      "18 19 20 21 22 23 24      22 23 24 25 26 27 28      22 23 24 25 26 27 28\n",
      "25 26 27 28 29 30 31                                29 30 31\n",
      "\n",
      "       April                      May                       June\n",
      "Mo Tu We Th Fr Sa Su      Mo Tu We Th Fr Sa Su      Mo Tu We Th Fr Sa Su\n",
      "          1  2  3  4                      1  2          1  2  3  4  5  6\n",
      " 5  6  7  8  9 10 11       3  4  5  6  7  8  9       7  8  9 10 11 12 13\n",
      "12 13 14 15 16 17 18      10 11 12 13 14 15 16      14 15 16 17 18 19 20\n",
      "19 20 21 22 23 24 25      17 18 19 20 21 22 23      21 22 23 24 25 26 27\n",
      "26 27 28 29 30            24 25 26 27 28 29 30      28 29 30\n",
      "                          31\n",
      "\n",
      "        July                     August                  September\n",
      "Mo Tu We Th Fr Sa Su      Mo Tu We Th Fr Sa Su      Mo Tu We Th Fr Sa Su\n",
      "          1  2  3  4                         1             1  2  3  4  5\n",
      " 5  6  7  8  9 10 11       2  3  4  5  6  7  8       6  7  8  9 10 11 12\n",
      "12 13 14 15 16 17 18       9 10 11 12 13 14 15      13 14 15 16 17 18 19\n",
      "19 20 21 22 23 24 25      16 17 18 19 20 21 22      20 21 22 23 24 25 26\n",
      "26 27 28 29 30 31         23 24 25 26 27 28 29      27 28 29 30\n",
      "                          30 31\n",
      "\n",
      "      October                   November                  December\n",
      "Mo Tu We Th Fr Sa Su      Mo Tu We Th Fr Sa Su      Mo Tu We Th Fr Sa Su\n",
      "             1  2  3       1  2  3  4  5  6  7             1  2  3  4  5\n",
      " 4  5  6  7  8  9 10       8  9 10 11 12 13 14       6  7  8  9 10 11 12\n",
      "11 12 13 14 15 16 17      15 16 17 18 19 20 21      13 14 15 16 17 18 19\n",
      "18 19 20 21 22 23 24      22 23 24 25 26 27 28      20 21 22 23 24 25 26\n",
      "25 26 27 28 29 30 31      29 30                     27 28 29 30 31\n",
      "\n"
     ]
    }
   ],
   "source": [
    "# get full year calendar \n",
    "year = 1999\n",
    "print(calendar.calendar(year))"
   ]
  },
  {
   "cell_type": "code",
   "execution_count": 19,
   "id": "ab5bb5ce-0e25-4bdb-b606-d458b49b9f8b",
   "metadata": {},
   "outputs": [
    {
     "name": "stdout",
     "output_type": "stream",
     "text": [
      "Collecting emoji\n",
      "  Downloading emoji-2.14.1-py3-none-any.whl.metadata (5.7 kB)\n",
      "Downloading emoji-2.14.1-py3-none-any.whl (590 kB)\n",
      "   ---------------------------------------- 0.0/590.6 kB ? eta -:--:--\n",
      "   ----------------- ---------------------- 262.1/590.6 kB ? eta -:--:--\n",
      "   ---------------------------------------- 590.6/590.6 kB 2.3 MB/s eta 0:00:00\n",
      "Installing collected packages: emoji\n",
      "Successfully installed emoji-2.14.1\n",
      "Note: you may need to restart the kernel to use updated packages.\n"
     ]
    }
   ],
   "source": [
    "pip install emoji"
   ]
  },
  {
   "cell_type": "code",
   "execution_count": 1,
   "id": "205235a6-a6b0-49cc-961c-455c9697c35d",
   "metadata": {},
   "outputs": [],
   "source": [
    "import emoji"
   ]
  },
  {
   "cell_type": "code",
   "execution_count": 3,
   "id": "3de8b2c9-6cf7-4204-9472-f548297fe229",
   "metadata": {},
   "outputs": [
    {
     "name": "stdout",
     "output_type": "stream",
     "text": [
      "🐿\n"
     ]
    }
   ],
   "source": [
    "# Display emoji using unicode codepoint\n",
    "chipmunk = emoji.emojize(\"\\U0001F43F\")\n",
    "print(chipmunk)"
   ]
  },
  {
   "cell_type": "code",
   "execution_count": 4,
   "id": "ce3dd496-720d-4dc4-8c0f-c50f8f21f8c9",
   "metadata": {},
   "outputs": [
    {
     "name": "stdout",
     "output_type": "stream",
     "text": [
      "🧡\n"
     ]
    }
   ],
   "source": [
    "# Display emoji using shortcodes\n",
    "emoji_text = emoji.emojize(\":orange_heart:\")\n",
    "print(emoji_text)"
   ]
  },
  {
   "cell_type": "code",
   "execution_count": 19,
   "id": "22e52f98-f9c0-41e8-a6f1-c89de660a858",
   "metadata": {},
   "outputs": [
    {
     "name": "stdout",
     "output_type": "stream",
     "text": [
      "I ❤️ classical songs 🎶 and playing badminton 🏸!\n"
     ]
    }
   ],
   "source": [
    "# Convert emoji shortcods into emojis\n",
    "heart_emoji = emoji.emojize(\":red_heart:\")\n",
    "musical_notes_emoji = emoji.emojize(\":musical_notes:\")\n",
    "badminton_emoji = emoji.emojize(\":badminton:\")\n",
    "\n",
    "Sentence =f\"I {heart_emoji} classical songs {musical_notes_emoji} and playing badminton {badminton_emoji}!\"\n",
    "print(Sentence)"
   ]
  },
  {
   "cell_type": "code",
   "execution_count": 21,
   "id": "5e91e5fb-a1ab-4e05-9a05-50b243a22e27",
   "metadata": {},
   "outputs": [
    {
     "name": "stdout",
     "output_type": "stream",
     "text": [
      "[]\n",
      "<class 'list'>\n"
     ]
    }
   ],
   "source": [
    "# List in python\n",
    "# List is a collection which is ordered and changeable. Allows duplicate members.\n",
    "\n",
    "# Create a empty list\n",
    "my_list = []\n",
    "print(my_list)\n",
    "\n",
    "# Check the type of my list\n",
    "print(type(my_list))"
   ]
  },
  {
   "cell_type": "code",
   "execution_count": 22,
   "id": "67c4b5d9-be27-4fff-8cc5-b5465a81a737",
   "metadata": {},
   "outputs": [
    {
     "name": "stdout",
     "output_type": "stream",
     "text": [
      "[1, 2, 3, 4, 5]\n"
     ]
    }
   ],
   "source": [
    "# int list with values\n",
    "my_list = [1, 2, 3, 4, 5]\n",
    "print(my_list)"
   ]
  },
  {
   "cell_type": "code",
   "execution_count": 23,
   "id": "0e2c572a-22ef-4600-a426-824a790f2443",
   "metadata": {},
   "outputs": [
    {
     "name": "stdout",
     "output_type": "stream",
     "text": [
      "[1, 2, 3, 4, 5, 'hello', 3.14]\n"
     ]
    }
   ],
   "source": [
    "# mixed data type\n",
    "my_list = [1, 2, 3, 4, 5, \"hello\", 3.14]\n",
    "print(my_list)\n",
    "           "
   ]
  },
  {
   "cell_type": "code",
   "execution_count": 26,
   "id": "c607a6c4-87f2-4965-834e-d04d6bad8b22",
   "metadata": {},
   "outputs": [
    {
     "name": "stdout",
     "output_type": "stream",
     "text": [
      "apple\n",
      "cherry\n",
      "mango\n"
     ]
    }
   ],
   "source": [
    "# Access list elements\n",
    "# index      0        1        2        3      4       5       6       \n",
    "fruits = [\"apple\",\"banana\",\"cherry\",\"orange\",\"kiwi\",\"melon\",\"mango\"]\n",
    "# -ve        -7      -6       -5       -4     -3      -2      -1\n",
    "\n",
    "#print the element with index\n",
    "print(fruits[0])\n",
    "print(fruits[-5])\n",
    "print(fruits[6])"
   ]
  },
  {
   "cell_type": "code",
   "execution_count": 38,
   "id": "3eb61168-327e-4d20-bb29-97a01e6d3bbf",
   "metadata": {},
   "outputs": [
    {
     "name": "stdout",
     "output_type": "stream",
     "text": [
      "['banana', 'cherry', 'orange']\n",
      "['banana', 'cherry', 'orange', 'kiwi']\n",
      "['apple', 'banana', 'cherry', 'orange']\n",
      "['orange', 'kiwi', 'melon', 'mango']\n",
      "['apple', 'banana', 'cherry', 'orange', 'kiwi', 'melon', 'mango']\n",
      "['apple', 'banana', 'cherry', 'orange', 'kiwi', 'melon', 'mango']\n"
     ]
    }
   ],
   "source": [
    "# Slice list \n",
    "# get the element from index 1 to 4\n",
    "print(fruits[1:4])\n",
    "print(fruits[-6:-2])\n",
    "\n",
    "print(fruits[:4])\n",
    "print(fruits[-4:])\n",
    "\n",
    "print(fruits[:])\n",
    "print(fruits)"
   ]
  },
  {
   "cell_type": "code",
   "execution_count": 40,
   "id": "61bcd71c-6549-4105-b752-3fef0f3f1e63",
   "metadata": {},
   "outputs": [
    {
     "name": "stdout",
     "output_type": "stream",
     "text": [
      "['apple', 'banana', 'cherry', 'orange', 'kiwi', 'melon', 'mango']\n",
      "['avocado', 'banana', 'cherry', 'orange', 'kiwi', 'melon', 'mango']\n"
     ]
    }
   ],
   "source": [
    "print(fruits)\n",
    "\n",
    "#change the value of an element\n",
    "fruits[0] = \"avocado\"\n",
    "print(fruits)"
   ]
  },
  {
   "cell_type": "code",
   "execution_count": 41,
   "id": "ed7b334e-0ad1-41d9-bc04-dc4f576e1860",
   "metadata": {},
   "outputs": [
    {
     "name": "stdout",
     "output_type": "stream",
     "text": [
      "['avocado', 'banana', 'blueberry', 'cherry', 'orange', 'kiwi', 'melon', 'mango']\n"
     ]
    }
   ],
   "source": [
    "# insert element at specific index\n",
    "fruits.insert(2,\"blueberry\")\n",
    "print(fruits)"
   ]
  },
  {
   "cell_type": "code",
   "execution_count": 42,
   "id": "16025d15-3156-435e-97ed-f0fef8b29372",
   "metadata": {},
   "outputs": [
    {
     "name": "stdout",
     "output_type": "stream",
     "text": [
      "['avocado', 'banana', 'blueberry', 'cherry', 'orange', 'kiwi', 'melon', 'mango', 'strawberry']\n"
     ]
    }
   ],
   "source": [
    "# Append element at the end of the list\n",
    "fruits.append(\"strawberry\")\n",
    "print(fruits)"
   ]
  },
  {
   "cell_type": "code",
   "execution_count": 43,
   "id": "c6ae7391-5981-4c6c-8e17-18c933f9fbf4",
   "metadata": {},
   "outputs": [
    {
     "name": "stdout",
     "output_type": "stream",
     "text": [
      "['avocado', 'blueberry', 'cherry', 'orange', 'kiwi', 'melon', 'mango', 'strawberry']\n"
     ]
    }
   ],
   "source": [
    "# Remove element\n",
    "fruits.remove(\"banana\")\n",
    "print(fruits)"
   ]
  },
  {
   "cell_type": "code",
   "execution_count": 46,
   "id": "239d2c74-e7f9-4e09-8a5c-fa3f492e1c70",
   "metadata": {},
   "outputs": [
    {
     "data": {
      "text/plain": [
       "'mango'"
      ]
     },
     "execution_count": 46,
     "metadata": {},
     "output_type": "execute_result"
    }
   ],
   "source": [
    "# Remove element at specific index\n",
    "fruits.pop(4)\n"
   ]
  },
  {
   "cell_type": "code",
   "execution_count": 47,
   "id": "c6540bf3-b7f1-48ea-a672-8179c2b9e56d",
   "metadata": {},
   "outputs": [
    {
     "name": "stdout",
     "output_type": "stream",
     "text": [
      "['avocado', 'blueberry', 'cherry', 'orange', 'strawberry']\n"
     ]
    }
   ],
   "source": [
    "print(fruits)"
   ]
  },
  {
   "cell_type": "code",
   "execution_count": 48,
   "id": "b5cd84c9-64f3-4a33-ad84-0b0379d1b0c2",
   "metadata": {},
   "outputs": [
    {
     "name": "stdout",
     "output_type": "stream",
     "text": [
      "['avocado', 'blueberry', 'cherry', 'orange', 'strawberry', 'grapes', 'watermelon']\n"
     ]
    }
   ],
   "source": [
    "# Extend list\n",
    "new_fruits = [\"grapes\",\"watermelon\"]\n",
    "fruits.extend(new_fruits)\n",
    "print(fruits)"
   ]
  },
  {
   "cell_type": "code",
   "execution_count": 49,
   "id": "d6a52063-7020-4188-802c-761608c66e9b",
   "metadata": {},
   "outputs": [
    {
     "name": "stdout",
     "output_type": "stream",
     "text": [
      "['avocado', 'blueberry', 'cherry', 'orange', 'strawberry', 'grapes']\n"
     ]
    }
   ],
   "source": [
    "# pop element from the end of the list \n",
    "fruits.pop()\n",
    "print(fruits)"
   ]
  },
  {
   "cell_type": "code",
   "execution_count": 50,
   "id": "8200df33-744b-4be9-a6f2-d5b5f5457901",
   "metadata": {},
   "outputs": [
    {
     "name": "stdout",
     "output_type": "stream",
     "text": [
      "avocado\n",
      "blueberry\n",
      "cherry\n",
      "orange\n",
      "strawberry\n",
      "grapes\n"
     ]
    }
   ],
   "source": [
    "# Intreting list\n",
    "for i in fruits:\n",
    "    print(i)"
   ]
  },
  {
   "cell_type": "code",
   "execution_count": 53,
   "id": "905eb7fc-90f9-4300-9ab3-5f5cf80459e2",
   "metadata": {},
   "outputs": [
    {
     "name": "stdout",
     "output_type": "stream",
     "text": [
      "False\n",
      "True\n"
     ]
    }
   ],
   "source": [
    "# Check if an element is in the list\n",
    "print(\"apple\" in fruits)\n",
    "print(\"orange\" in fruits)"
   ]
  },
  {
   "cell_type": "code",
   "execution_count": 61,
   "id": "55b8c7ab-04db-49a0-9138-3ff4db4817a2",
   "metadata": {},
   "outputs": [
    {
     "name": "stdin",
     "output_type": "stream",
     "text": [
      "Enter the size of the list: 4\n",
      "Enter the food: samosa\n",
      "Enter the food: vada\n",
      "Enter the food: kachori\n",
      "Enter the food: dhokla\n"
     ]
    },
    {
     "name": "stdout",
     "output_type": "stream",
     "text": [
      "samosa\n",
      "vada\n",
      "kachori\n",
      "dhokla\n"
     ]
    }
   ],
   "source": [
    "# How to take user iput into list\n",
    "\n",
    "# Define size and list\n",
    "size = int(input(\"Enter the size of the list:\"))\n",
    "food = []\n",
    "\n",
    "# Take input from user\n",
    "for i in range(size):\n",
    "    f = input(\"Enter the food:\")\n",
    "    food.append(f)\n",
    "\n",
    "for i in food:\n",
    "    print(i)"
   ]
  }
 ],
 "metadata": {
  "kernelspec": {
   "display_name": "Python 3 (ipykernel)",
   "language": "python",
   "name": "python3"
  },
  "language_info": {
   "codemirror_mode": {
    "name": "ipython",
    "version": 3
   },
   "file_extension": ".py",
   "mimetype": "text/x-python",
   "name": "python",
   "nbconvert_exporter": "python",
   "pygments_lexer": "ipython3",
   "version": "3.12.7"
  }
 },
 "nbformat": 4,
 "nbformat_minor": 5
}
