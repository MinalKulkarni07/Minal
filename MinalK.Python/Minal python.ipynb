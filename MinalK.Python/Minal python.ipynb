{
 "cells": [
  {
   "cell_type": "code",
   "execution_count": 1,
   "id": "506a298e-0a10-405e-8d43-bfbad1322776",
   "metadata": {},
   "outputs": [
    {
     "name": "stdout",
     "output_type": "stream",
     "text": [
      "Hey, It's Minal\n"
     ]
    }
   ],
   "source": [
    "# print()\n",
    "print(\"Hey, It's Minal\")\n"
   ]
  },
  {
   "cell_type": "code",
   "execution_count": 4,
   "id": "b713d29f-e23b-48c9-b1a0-62b66ff262f4",
   "metadata": {},
   "outputs": [
    {
     "name": "stdout",
     "output_type": "stream",
     "text": [
      "Welcom to Keerti Institute\n"
     ]
    }
   ],
   "source": [
    "print('Welcom to Keerti Institute')"
   ]
  },
  {
   "cell_type": "code",
   "execution_count": 8,
   "id": "eb67658a-bc61-4fbe-83b6-50feac84e02f",
   "metadata": {},
   "outputs": [
    {
     "name": "stdout",
     "output_type": "stream",
     "text": [
      "'Welcom to Keerti Institute'\n",
      "\"Hey, It is Minal.\"\n"
     ]
    }
   ],
   "source": [
    "print(\"'Welcom to Keerti Institute'\")\n",
    "print('\"Hey, It is Minal.\"')"
   ]
  },
  {
   "cell_type": "code",
   "execution_count": 12,
   "id": "891f50d5-5bcc-4276-b50c-326603903b61",
   "metadata": {},
   "outputs": [
    {
     "name": "stdout",
     "output_type": "stream",
     "text": [
      "This is number 7\n"
     ]
    }
   ],
   "source": [
    "# vriable\n",
    "Number = 7\n",
    "print('This is number',Number)"
   ]
  },
  {
   "cell_type": "code",
   "execution_count": 13,
   "id": "c3b02a7a-d3ef-412f-b963-ab9cbce40fe2",
   "metadata": {},
   "outputs": [
    {
     "name": "stdout",
     "output_type": "stream",
     "text": [
      "My Name is Minal\n",
      "My Age is 25\n",
      "My Height is 5\n"
     ]
    }
   ],
   "source": [
    "Name = \"Minal\"\n",
    "Age = 25\n",
    "Height = 5\n",
    "\n",
    "print(\"My Name is\",Name)\n",
    "print(\"My Age is\",Age)\n",
    "print(\"My Height is\",Height)"
   ]
  },
  {
   "cell_type": "code",
   "execution_count": 14,
   "id": "71bec02e-afb3-46d8-b446-7117fe8f7b61",
   "metadata": {},
   "outputs": [
    {
     "name": "stdin",
     "output_type": "stream",
     "text": [
      "Enter Your Name Minal\n",
      "Enter Your Age 25\n",
      "Enter Your Height 5\n"
     ]
    },
    {
     "name": "stdout",
     "output_type": "stream",
     "text": [
      "My Name is Minal\n",
      "My Age is 25\n",
      "My Height is 5\n"
     ]
    }
   ],
   "source": [
    "# input\n",
    "Name = input('Enter Your Name')\n",
    "Age = input('Enter Your Age')\n",
    "Height = input('Enter Your Height')\n",
    "\n",
    "print(\"My Name is\",Name)\n",
    "print(\"My Age is\",Age)\n",
    "print(\"My Height is\",Height)"
   ]
  },
  {
   "cell_type": "code",
   "execution_count": null,
   "id": "76415f33-92b2-411c-a549-82e8443cf54c",
   "metadata": {},
   "outputs": [],
   "source": [
    "# int()\n",
    "# float()\n",
    "# str()\n",
    "\n",
    "Name = str(input('Enter Your Name'))\n",
    "Age = int(input('Enter Your Age'))\n",
    "Height = float(input('Enter Your Height'))\n",
    "\n",
    "print(\"My Name is\",Name)\n",
    "print(\"My Age is\",Age)\n",
    "print(\"My Height is\",Height)"
   ]
  }
 ],
 "metadata": {
  "kernelspec": {
   "display_name": "Python 3 (ipykernel)",
   "language": "python",
   "name": "python3"
  },
  "language_info": {
   "codemirror_mode": {
    "name": "ipython",
    "version": 3
   },
   "file_extension": ".py",
   "mimetype": "text/x-python",
   "name": "python",
   "nbconvert_exporter": "python",
   "pygments_lexer": "ipython3",
   "version": "3.12.7"
  }
 },
 "nbformat": 4,
 "nbformat_minor": 5
}
