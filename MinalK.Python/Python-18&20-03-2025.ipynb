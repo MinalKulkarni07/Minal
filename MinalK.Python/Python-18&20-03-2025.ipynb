{
 "cells": [
  {
   "cell_type": "code",
   "execution_count": 1,
   "id": "506a298e-0a10-405e-8d43-bfbad1322776",
   "metadata": {},
   "outputs": [
    {
     "name": "stdout",
     "output_type": "stream",
     "text": [
      "Hey, It's Minal\n"
     ]
    }
   ],
   "source": [
    "# 18/03/2025\n",
    "# print()\n",
    "print(\"Hey, It's Minal\")\n"
   ]
  },
  {
   "cell_type": "code",
   "execution_count": 4,
   "id": "b713d29f-e23b-48c9-b1a0-62b66ff262f4",
   "metadata": {},
   "outputs": [
    {
     "name": "stdout",
     "output_type": "stream",
     "text": [
      "Welcom to Keerti Institute\n"
     ]
    }
   ],
   "source": [
    "print('Welcom to Keerti Institute')"
   ]
  },
  {
   "cell_type": "code",
   "execution_count": 8,
   "id": "eb67658a-bc61-4fbe-83b6-50feac84e02f",
   "metadata": {},
   "outputs": [
    {
     "name": "stdout",
     "output_type": "stream",
     "text": [
      "'Welcom to Keerti Institute'\n",
      "\"Hey, It is Minal.\"\n"
     ]
    }
   ],
   "source": [
    "print(\"'Welcom to Keerti Institute'\")\n",
    "print('\"Hey, It is Minal.\"')"
   ]
  },
  {
   "cell_type": "code",
   "execution_count": 12,
   "id": "891f50d5-5bcc-4276-b50c-326603903b61",
   "metadata": {},
   "outputs": [
    {
     "name": "stdout",
     "output_type": "stream",
     "text": [
      "This is number 7\n"
     ]
    }
   ],
   "source": [
    "# vriable\n",
    "Number = 7\n",
    "print('This is number',Number)"
   ]
  },
  {
   "cell_type": "code",
   "execution_count": 13,
   "id": "c3b02a7a-d3ef-412f-b963-ab9cbce40fe2",
   "metadata": {},
   "outputs": [
    {
     "name": "stdout",
     "output_type": "stream",
     "text": [
      "My Name is Minal\n",
      "My Age is 25\n",
      "My Height is 5\n"
     ]
    }
   ],
   "source": [
    "Name = \"Minal\"\n",
    "Age = 25\n",
    "Height = 5\n",
    "\n",
    "print(\"My Name is\",Name)\n",
    "print(\"My Age is\",Age)\n",
    "print(\"My Height is\",Height)"
   ]
  },
  {
   "cell_type": "code",
   "execution_count": 14,
   "id": "71bec02e-afb3-46d8-b446-7117fe8f7b61",
   "metadata": {},
   "outputs": [
    {
     "name": "stdin",
     "output_type": "stream",
     "text": [
      "Enter Your Name Minal\n",
      "Enter Your Age 25\n",
      "Enter Your Height 5\n"
     ]
    },
    {
     "name": "stdout",
     "output_type": "stream",
     "text": [
      "My Name is Minal\n",
      "My Age is 25\n",
      "My Height is 5\n"
     ]
    }
   ],
   "source": [
    "# input\n",
    "Name = input('Enter Your Name')\n",
    "Age = input('Enter Your Age')\n",
    "Height = input('Enter Your Height')\n",
    "\n",
    "print(\"My Name is\",Name)\n",
    "print(\"My Age is\",Age)\n",
    "print(\"My Height is\",Height)"
   ]
  },
  {
   "cell_type": "code",
   "execution_count": null,
   "id": "76415f33-92b2-411c-a549-82e8443cf54c",
   "metadata": {},
   "outputs": [],
   "source": [
    "# int()\n",
    "# float()\n",
    "# str()\n",
    "\n",
    "Name = str(input('Enter Your Name'))\n",
    "Age = int(input('Enter Your Age'))\n",
    "Height = float(input('Enter Your Height'))\n",
    "\n",
    "print(\"My Name is\",Name)\n",
    "print(\"My Age is\",Age)\n",
    "print(\"My Height is\",Height)"
   ]
  },
  {
   "cell_type": "code",
   "execution_count": 1,
   "id": "bac102fc-a440-4298-8359-f2bf89824e99",
   "metadata": {},
   "outputs": [
    {
     "name": "stdout",
     "output_type": "stream",
     "text": [
      "152\n",
      "48\n",
      "5200\n",
      "1.9230769230769231\n",
      "1\n",
      "48\n",
      "10000\n"
     ]
    }
   ],
   "source": [
    "# 20/03/2025\n",
    "# Arithmetic Operators\n",
    "\n",
    "x = 100\n",
    "y = 52\n",
    "\n",
    "print(x + y)\n",
    "print(x - y)\n",
    "print(x * y)\n",
    "print(x / y)\n",
    "print(x // y)\n",
    "print(x % y)\n",
    "print(x ** 2)\n"
   ]
  },
  {
   "cell_type": "code",
   "execution_count": 2,
   "id": "499c41a3-e36e-413e-b2fe-c72d93e3483c",
   "metadata": {},
   "outputs": [
    {
     "name": "stdout",
     "output_type": "stream",
     "text": [
      "False\n",
      "True\n",
      "False\n",
      "True\n",
      "False\n",
      "True\n"
     ]
    }
   ],
   "source": [
    "# Comparison Operators\n",
    "\n",
    "print(40 < 34)\n",
    "print(42 > 34)\n",
    "print(23 == 42)\n",
    "print(40 != 34)\n",
    "print(40 <= 34)\n",
    "print(40 >= 34)"
   ]
  },
  {
   "cell_type": "code",
   "execution_count": 3,
   "id": "90ae7666-5d61-453d-9862-48e5fd334bfe",
   "metadata": {},
   "outputs": [
    {
     "name": "stdout",
     "output_type": "stream",
     "text": [
      "True\n",
      "True\n",
      "False\n"
     ]
    }
   ],
   "source": [
    "# Logical Operators\n",
    "\n",
    "# and\n",
    "print(67 == 67 and 78 < 100) \n",
    "# or \n",
    "print(30 == 67 or 78 < 100) \n",
    "# not \n",
    "print( not 34 == 34)"
   ]
  },
  {
   "cell_type": "code",
   "execution_count": 4,
   "id": "1f570e5e-7911-4c43-9c3d-2163c40d2473",
   "metadata": {},
   "outputs": [
    {
     "name": "stdout",
     "output_type": "stream",
     "text": [
      "15\n",
      "25\n",
      "15\n",
      "150\n",
      "15.0\n"
     ]
    }
   ],
   "source": [
    "# Assignment Operators\n",
    "a = 15 \n",
    "print(a)\n",
    "\n",
    "# a = a + 10\n",
    "a += 10\n",
    "print(a)\n",
    "a -= 10\n",
    "print(a)\n",
    "a *= 10\n",
    "print(a)\n",
    "a /= 10\n",
    "print(a)\n"
   ]
  },
  {
   "cell_type": "code",
   "execution_count": 5,
   "id": "6f1a0227-b413-4183-8297-cbd97cf1d181",
   "metadata": {},
   "outputs": [
    {
     "name": "stdout",
     "output_type": "stream",
     "text": [
      "False\n",
      "True\n"
     ]
    }
   ],
   "source": [
    "# Identity Operators\n",
    "\n",
    "#is \n",
    "a = 10\n",
    "b = 20\n",
    "print(a is b)\n",
    "# is not\n",
    "print(a is not b)"
   ]
  },
  {
   "cell_type": "code",
   "execution_count": 6,
   "id": "fd1eaef2-7d5b-4038-affe-a8ba280615d1",
   "metadata": {},
   "outputs": [
    {
     "name": "stdout",
     "output_type": "stream",
     "text": [
      "True\n",
      "False\n"
     ]
    }
   ],
   "source": [
    "# Membership Operators\n",
    "web = \" Welcome to keerti institute\"\n",
    "print('c' in web)\n",
    "print('c' not in web)"
   ]
  },
  {
   "cell_type": "code",
   "execution_count": 7,
   "id": "7f4f193e-b4e8-47c8-b50e-dd80f83c585c",
   "metadata": {},
   "outputs": [
    {
     "name": "stdout",
     "output_type": "stream",
     "text": [
      "a is smallest\n"
     ]
    }
   ],
   "source": [
    "# if else\n",
    "a = 20 \n",
    "b = 88\n",
    "\n",
    "# find the smallest values \n",
    "\n",
    "if a < b :\n",
    "    print(\"a is smallest\")\n",
    "else:\n",
    "    print(\"a is not smallest ...\")   "
   ]
  },
  {
   "cell_type": "code",
   "execution_count": 12,
   "id": "46a8f969-0db9-4c8c-95db-638e53aa8fe1",
   "metadata": {},
   "outputs": [
    {
     "name": "stdout",
     "output_type": "stream",
     "text": [
      " a is smallest\n"
     ]
    }
   ],
   "source": [
    "a = 35\n",
    "b = 37\n",
    "c = 40\n",
    "\n",
    "if a < b and a < c:\n",
    "    print(' a is smallest')\n",
    "elif b < a and b < c:\n",
    "    print(\" b is smallest\")\n",
    "else:\n",
    "    print(' c is smallest')    \n",
    " "
   ]
  }
 ],
 "metadata": {
  "kernelspec": {
   "display_name": "Python 3 (ipykernel)",
   "language": "python",
   "name": "python3"
  },
  "language_info": {
   "codemirror_mode": {
    "name": "ipython",
    "version": 3
   },
   "file_extension": ".py",
   "mimetype": "text/x-python",
   "name": "python",
   "nbconvert_exporter": "python",
   "pygments_lexer": "ipython3",
   "version": "3.12.7"
  }
 },
 "nbformat": 4,
 "nbformat_minor": 5
}
