{
 "cells": [
  {
   "cell_type": "code",
   "execution_count": 6,
   "id": "f1baa8bc-c229-4aa5-8db6-edafd70add41",
   "metadata": {},
   "outputs": [
    {
     "name": "stdin",
     "output_type": "stream",
     "text": [
      "Enter Your Exam Score: 25\n"
     ]
    },
    {
     "name": "stdout",
     "output_type": "stream",
     "text": [
      "25 You are FAIL\n"
     ]
    }
   ],
   "source": [
    "# Assignment 3: If-Else Statements and Logical Operators\n",
    "# 1.Grade Classifier: Task: This program prompts the user to enter their exam score and then classifies their grade based on the score. \n",
    "Exam_Score = int(input(\"Enter Your Exam Score:\"))\n",
    "if Exam_Score >= 80:\n",
    "    print(Exam_Score,\"Your Grade is A\")\n",
    "elif Exam_Score >= 50:\n",
    "    print(Exam_Score,\"Your Grade is B\")\n",
    "elif Exam_Score >= 30:\n",
    "    print(Exam_Score,\"Your Grade is C\")\n",
    "else:\n",
    "    print(Exam_Score,\"You are FAIL\")"
   ]
  },
  {
   "cell_type": "code",
   "execution_count": 12,
   "id": "c18d5cfb-aca0-4b8f-997a-e51685da47a0",
   "metadata": {},
   "outputs": [
    {
     "name": "stdin",
     "output_type": "stream",
     "text": [
      "Enter First Number: 30\n",
      "Enter Second Number: 15\n"
     ]
    },
    {
     "name": "stdout",
     "output_type": "stream",
     "text": [
      "30 is greater than 15\n"
     ]
    }
   ],
   "source": [
    "# 2.Number Comparison: Task: This program prompts the user to enter two numbers and compares them to determine which one is greater or if they are equal.\n",
    "Number1 = int(input(\"Enter First Number:\"))\n",
    "Number2 = int(input(\"Enter Second Number:\"))\n",
    "if Number1 > Number2:\n",
    "    print(Number1,\"is greater than\",Number2)\n",
    "elif Number1 < Number2:\n",
    "    print(Number1,\"is smaller than\",Number2)\n",
    "elif Number2 > Number1:\n",
    "    print(Number2,\"is greater than\",Number1)\n",
    "elif Number2 < Number1:\n",
    "    print(Number2,\"is greater than\",Number1)\n",
    "else:\n",
    "    print(Number1,\"is equal to\",Number2)"
   ]
  },
  {
   "cell_type": "code",
   "execution_count": 24,
   "id": "e0c45518-977e-423c-990a-dcbb635375dd",
   "metadata": {},
   "outputs": [
    {
     "name": "stdin",
     "output_type": "stream",
     "text": [
      "Enter a year:  2024\n"
     ]
    },
    {
     "name": "stdout",
     "output_type": "stream",
     "text": [
      "2024 is a leap year.\n"
     ]
    }
   ],
   "source": [
    "# 3.Leap Year Checker: Task: This program prompts the user to enter a year and checks if it's a leap year or not.\n",
    "year = int(input(\"Enter a year: \"))\n",
    "if (year % 4 == 0 and year % 48 != 0):\n",
    "    print(year, \"is a leap year.\")\n",
    "else:\n",
    "    print(year, \"is not a leap year.\")"
   ]
  },
  {
   "cell_type": "code",
   "execution_count": 5,
   "id": "9065de7a-8a9e-4038-bb9c-7a5a10ffc2be",
   "metadata": {},
   "outputs": [
    {
     "name": "stdin",
     "output_type": "stream",
     "text": [
      "Enter a number: -15\n"
     ]
    },
    {
     "name": "stdout",
     "output_type": "stream",
     "text": [
      "-15 is a negative number.\n"
     ]
    }
   ],
   "source": [
    "# 4.Number Sign Checker: Task: This program prompts the user to enter a number and determines whether it's positive, negative, or zero.\n",
    "Number = int(input(\"Enter a number:\"))\n",
    "if (Number < 0):\n",
    "    print(Number,\"is a negative number.\")\n",
    "elif (Number > 0):\n",
    "    print(Number,\"is a positive number.\")\n",
    "else:\n",
    "    print(Number,\"is a zero.\")\n"
   ]
  },
  {
   "cell_type": "code",
   "execution_count": 19,
   "id": "c62ef56b-d861-4e1b-8162-a56c94436b01",
   "metadata": {},
   "outputs": [
    {
     "name": "stdin",
     "output_type": "stream",
     "text": [
      "Enter a character: P\n"
     ]
    },
    {
     "name": "stdout",
     "output_type": "stream",
     "text": [
      "P is a consonant\n"
     ]
    }
   ],
   "source": [
    "# 5.Vowel Checker: Task: This program prompts the user to enter a character and checks if it's a vowel or a consonant.\n",
    "Character = str(input(\"Enter a character:\"))\n",
    "if (Character == \"a\"):\n",
    "    print(Character,\"is a vowel.\")\n",
    "elif (Character == \"e\"):\n",
    "    print(Character,\"is a vowel.\")\n",
    "elif (Character == \"i\"):\n",
    "    print(Character,\"is a vowel.\")\n",
    "elif (Character == \"o\"):\n",
    "    print(Character,\"is a vowel.\")\n",
    "elif (Character == \"u\"):\n",
    "    print(Character,\"is a vowel.\")\n",
    "else:\n",
    "    print(Character,\"is a consonant\")"
   ]
  },
  {
   "cell_type": "code",
   "execution_count": 30,
   "id": "ffa8048a-dceb-47a8-bd34-304cbb7cfbc8",
   "metadata": {},
   "outputs": [
    {
     "name": "stdin",
     "output_type": "stream",
     "text": [
      "Enter your age: 66\n"
     ]
    },
    {
     "name": "stdout",
     "output_type": "stream",
     "text": [
      "You are a Senior.\n"
     ]
    }
   ],
   "source": [
    "# 6.Age Classifier: Task: This program prompts the user to enter their age and classifies them into different age groups.\n",
    "Age = int(input(\"Enter your age:\"))\n",
    "if (Age <= 5):\n",
    "    print(\"You are a Toddler.\")\n",
    "elif (Age <= 12):\n",
    "    print(\"You are a Child.\")\n",
    "elif (Age <= 18):\n",
    "    print(\"You are a Teenager.\")\n",
    "elif (Age <= 35):\n",
    "    print(\"You are an Adult.\")\n",
    "elif (Age <= 50):\n",
    "    print(\"You are a Middle-aged adult.\")\n",
    "elif (Age <= 70):\n",
    "    print(\"You are a Senior.\")\n",
    "else:\n",
    "    print(\"You are an Elderly senior.\")"
   ]
  },
  {
   "cell_type": "code",
   "execution_count": 34,
   "id": "a982da6a-d83f-4454-95b9-7f2d17a33cde",
   "metadata": {},
   "outputs": [
    {
     "name": "stdin",
     "output_type": "stream",
     "text": [
      "Enter a number: 18\n"
     ]
    },
    {
     "name": "stdout",
     "output_type": "stream",
     "text": [
      "18 is an even number.\n"
     ]
    }
   ],
   "source": [
    "# 7.Odd or Even Checker: Task: This program prompts the user to enter a number and determines whether it's odd or even.\n",
    "Number = int(input(\"Enter a number:\"))\n",
    "if (Number % 2 == 0):\n",
    "    print(Number,\"is an even number.\")\n",
    "else:\n",
    "    print(Number,\"is an odd number.\")"
   ]
  },
  {
   "cell_type": "code",
   "execution_count": 40,
   "id": "4fe8baaa-e6b2-4b9b-b1bb-67009346fb82",
   "metadata": {},
   "outputs": [
    {
     "name": "stdin",
     "output_type": "stream",
     "text": [
      "Enter the length of side 1: 2\n",
      "Enter the length of side 2: 6\n",
      "Enter the length of side 3: 8\n"
     ]
    },
    {
     "name": "stdout",
     "output_type": "stream",
     "text": [
      "This is a scalene triangle.\n"
     ]
    }
   ],
   "source": [
    "# 8.Triangle Type Classifier: Task: This program prompts the user to enter three sides of a triangle and classifies the triangle based on its type.\n",
    "Side1 = int(input(\"Enter the length of side 1:\"))\n",
    "Side2 = int(input(\"Enter the length of side 2:\"))\n",
    "Side3 = int(input(\"Enter the length of side 3:\"))\n",
    "if (Side1 == Side2 == Side3):\n",
    "    print(\"This is a equilateral triangle.\")\n",
    "elif (Side1 == Side2 or Side1 == Side3 or Side2 == Side3):\n",
    "    print(\"This is a isosceles triangle.\")\n",
    "else:\n",
    "    print(\"This is a scalene triangle.\")"
   ]
  },
  {
   "cell_type": "code",
   "execution_count": 4,
   "id": "30b95fa2-cc62-4fe1-b199-47f12c9db4ca",
   "metadata": {},
   "outputs": [
    {
     "name": "stdin",
     "output_type": "stream",
     "text": [
      "Enter the current temperature(in celsius): 12\n"
     ]
    },
    {
     "name": "stdout",
     "output_type": "stream",
     "text": [
      "It is cool outside. You can wear sweaters.\n"
     ]
    }
   ],
   "source": [
    "# 9.Temperature Adviser: Task: This program prompts the user to enter the current temperature and suggests appropriate clothing based on the temperature range.\n",
    "Temperature = int(input(\"Enter the current temperature(in celsius):\"))\n",
    "if (Temperature > 30):\n",
    "    print(\"It is hot outside. You can wear t-shirts and shorts.\")\n",
    "elif (Temperature > 22):\n",
    "    print(\"It is warm outside. You can wear t-shirts,pants and light jackets.\")\n",
    "elif (Temperature > 0):\n",
    "    print(\"It is cool outside. You can wear sweaters.\")\n",
    "else:\n",
    "    print(\"It is cold outside. You can wear hoodies.\")"
   ]
  },
  {
   "cell_type": "code",
   "execution_count": 7,
   "id": "3e195d90-0cf0-45f2-9385-50450dd7fd48",
   "metadata": {},
   "outputs": [
    {
     "name": "stdin",
     "output_type": "stream",
     "text": [
      "Enter a number: 780\n"
     ]
    },
    {
     "name": "stdout",
     "output_type": "stream",
     "text": [
      "The number 780 falls within the range above 500.\n"
     ]
    }
   ],
   "source": [
    "# 10.Number Range Checker: Task: This program prompts the user to enter a number and checks if it falls within a specified range.\n",
    "Number = int(input(\"Enter a number:\"))\n",
    "if (Number <= 100):\n",
    "    print(\"The number\",Number,\"falls within the range of 1 to 100.\")\n",
    "elif (Number <= 200):\n",
    "    print(\"The number\",Number,\"falls within the range of 1 to 200.\")\n",
    "elif (Number <= 300):\n",
    "    print(\"The number\",Number,\"falls within the range of 1 to 300.\")\n",
    "elif (Number <= 400):\n",
    "    print(\"The number\",Number,\"falls within the range of 1 to 400.\")\n",
    "elif (Number <= 500):\n",
    "    print(\"The number\",Number,\"falls within the range of 1 to 500.\")\n",
    "else:\n",
    "    print(\"The number\",Number,\"falls within the range above 500.\")"
   ]
  }
 ],
 "metadata": {
  "kernelspec": {
   "display_name": "Python 3 (ipykernel)",
   "language": "python",
   "name": "python3"
  },
  "language_info": {
   "codemirror_mode": {
    "name": "ipython",
    "version": 3
   },
   "file_extension": ".py",
   "mimetype": "text/x-python",
   "name": "python",
   "nbconvert_exporter": "python",
   "pygments_lexer": "ipython3",
   "version": "3.12.7"
  }
 },
 "nbformat": 4,
 "nbformat_minor": 5
}
