{
 "cells": [
  {
   "cell_type": "code",
   "execution_count": 43,
   "id": "852ef4af-db60-4d59-b5cb-6f193b0144f0",
   "metadata": {},
   "outputs": [
    {
     "name": "stdin",
     "output_type": "stream",
     "text": [
      "Enter Start Number 45\n",
      "Enter End Number 12\n"
     ]
    },
    {
     "name": "stdout",
     "output_type": "stream",
     "text": [
      "Please enter valid positive numbers with Start <= End.\n"
     ]
    }
   ],
   "source": [
    "# Assignment 5: For Loops\n",
    "# 1.Write a Program to Calculate the Sum of Natural Numbers ?\n",
    "\n",
    "def get_sum(Start,End):\n",
    "    total = 0\n",
    "    for i in range(Start,End + 1):\n",
    "        total += i\n",
    "    return total\n",
    "\n",
    "Start = int(input(\"Enter Start Number\"))\n",
    "End = int(input(\"Enter End Number\"))\n",
    "\n",
    "if (Start > 0 and End >= Start):\n",
    "    total_sum = get_sum(Start,End)\n",
    "    print(\"Total sum of\",Start,\"to\",End,\"=\",total_sum)\n",
    "else:\n",
    "    print(\"Please enter valid positive numbers with Start <= End.\")\n"
   ]
  },
  {
   "cell_type": "code",
   "execution_count": 2,
   "id": "24c14435-8507-4ef4-be8a-2b7c6c4c8601",
   "metadata": {},
   "outputs": [
    {
     "name": "stdin",
     "output_type": "stream",
     "text": [
      "Enter Table Number: 17\n"
     ]
    },
    {
     "name": "stdout",
     "output_type": "stream",
     "text": [
      "Table Number of 17\n",
      "17 x 1 = 17\n",
      "17 x 2 = 34\n",
      "17 x 3 = 51\n",
      "17 x 4 = 68\n",
      "17 x 5 = 85\n",
      "17 x 6 = 102\n",
      "17 x 7 = 119\n",
      "17 x 8 = 136\n",
      "17 x 9 = 153\n",
      "17 x 10 = 170\n"
     ]
    }
   ],
   "source": [
    "# 2.Write a Program to Generate Multiplication Table\n",
    "def generate_table(Num):\n",
    "    for i in range(1,10 + 1):\n",
    "       print(Num,\"x\",i,\"=\",Num * i)\n",
    "Table_Number = int(input(\"Enter Table Number:\"))\n",
    "\n",
    "if (Table_Number > 0):\n",
    "    print(\"Table Number of\",Table_Number)\n",
    "    generate_table(Table_Number)"
   ]
  },
  {
   "cell_type": "code",
   "execution_count": 1,
   "id": "c8dd4a95-71db-415e-85bc-1a90ce27d3c2",
   "metadata": {},
   "outputs": [
    {
     "name": "stdin",
     "output_type": "stream",
     "text": [
      "Enter a sting minal kulkarni 05@\n"
     ]
    },
    {
     "name": "stdout",
     "output_type": "stream",
     "text": [
      "Total number of alphabets in the sting: 13\n"
     ]
    }
   ],
   "source": [
    "# 3.Write a Program to Display count of Alphabets in to String\n",
    "def count_alphabets(string):\n",
    "    count = 0\n",
    "    for char in string:\n",
    "        if (char >=\"A\" and char <= \"Z\") or (char >=\"a\" and char <= \"z\"):\n",
    "           count += 1\n",
    "    return count\n",
    "\n",
    "String = input(\"Enter a sting\")\n",
    "\n",
    "Alphabet_count = count_alphabets(String)\n",
    "print(\"Total number of alphabets in the sting:\",Alphabet_count)"
   ]
  },
  {
   "cell_type": "code",
   "execution_count": 60,
   "id": "ebdebd8e-79d9-427a-8ef9-0b425518579c",
   "metadata": {},
   "outputs": [
    {
     "name": "stdin",
     "output_type": "stream",
     "text": [
      "Enter Numbers 12345687953224984132\n"
     ]
    },
    {
     "name": "stdout",
     "output_type": "stream",
     "text": [
      "Total integers in numbers: 20\n"
     ]
    }
   ],
   "source": [
    "# 4.Write a Program to Count Number of Digits in an Integer\n",
    "def count_integers(integer):\n",
    "    count = 0\n",
    "    for i in integer:\n",
    "        count += 1\n",
    "    return count\n",
    "\n",
    "Integer = input(\"Enter Numbers\")\n",
    "\n",
    "Integer_count = count_integers(Integer)\n",
    "print(\"Total integers in numbers:\",Integer_count)"
   ]
  },
  {
   "cell_type": "code",
   "execution_count": 1,
   "id": "eece26cb-c9ea-412b-be30-14b0a5daee8a",
   "metadata": {},
   "outputs": [
    {
     "name": "stdin",
     "output_type": "stream",
     "text": [
      "Enter a number:  57945\n"
     ]
    },
    {
     "name": "stdout",
     "output_type": "stream",
     "text": [
      "Reverse number of 57945 is 54975\n"
     ]
    }
   ],
   "source": [
    "# Function to reverse a number using a loop\n",
    "def reverse_number(num):\n",
    "    reverse = 0\n",
    "    while num > 0:  \n",
    "        digit = num % 10  \n",
    "        reverse = (reverse * 10) + digit  \n",
    "        num //= 10  \n",
    "    return reverse\n",
    "\n",
    "Number = int(input(\"Enter a number: \"))\n",
    "if Number >= 0:\n",
    "    Reverse_number = reverse_number(Number)\n",
    "    print(\"Reverse number of\", Number, \"is\", Reverse_number)\n",
    "else:\n",
    "    Reverse_number = reverse_number(-Number)\n",
    "    print(\"Reverse number of\", Number, \"is\", -Reverse_number)\n"
   ]
  }
 ],
 "metadata": {
  "kernelspec": {
   "display_name": "Python 3 (ipykernel)",
   "language": "python",
   "name": "python3"
  },
  "language_info": {
   "codemirror_mode": {
    "name": "ipython",
    "version": 3
   },
   "file_extension": ".py",
   "mimetype": "text/x-python",
   "name": "python",
   "nbconvert_exporter": "python",
   "pygments_lexer": "ipython3",
   "version": "3.12.7"
  }
 },
 "nbformat": 4,
 "nbformat_minor": 5
}
