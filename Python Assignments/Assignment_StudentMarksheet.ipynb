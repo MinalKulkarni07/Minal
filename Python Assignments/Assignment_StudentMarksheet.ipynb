{
 "cells": [
  {
   "cell_type": "code",
   "execution_count": null,
   "id": "9797bf64-a2be-4909-bb39-01071f379438",
   "metadata": {},
   "outputs": [],
   "source": [
    "# -- input Section \n",
    "# 1. Enter Student Name : Ravi\n",
    "# 2. Enter Roll Number : RAVI009912\n",
    "# 3. Enter Class : MCA\n",
    "# 4. Enter JAVA Marks : 56\n",
    "# 5. Enter C++ Marks : 89\n",
    "# 6. Enter Python Marks : 12\n",
    "# 7. Enter Ruby Marks : 56\n",
    "# 8. Enter SQL Marks : 78\n",
    "\n",
    "# -- Output Section\n",
    "# Student Name : Ravi\n",
    "# Roll Number : RAVI009912\n",
    "# Class : MCA\n",
    "# Enter JAVA Marks : 56/100\n",
    "# C++ Marks : 89/100\n",
    "# Python Marks : 12/100\n",
    "# Ruby Marks : 56/100\n",
    "# SQL Marks : 78/100\n",
    "#    total = ?\n",
    "#    Per % = ?%"
   ]
  },
  {
   "cell_type": "code",
   "execution_count": 17,
   "id": "2c1d1f5f-af67-4f51-acf4-776517bb65c7",
   "metadata": {},
   "outputs": [
    {
     "name": "stdin",
     "output_type": "stream",
     "text": [
      "Enter Student Name : Minal\n",
      "Enter Roll Number : 21\n",
      "Enter Class : DVA\n",
      "Enter JAVA Marks : 75\n",
      "Enter C++ Marks : 84\n",
      "Enter Python Marks : 96\n",
      "Enter Ruby Marks : 45\n",
      "Enter SQL Marks : 65\n"
     ]
    },
    {
     "name": "stdout",
     "output_type": "stream",
     "text": [
      "student name is: Minal\n",
      "Roll name is: 21\n",
      "Class is: DVA\n",
      "JAVA Marks: 75 /100\n",
      "Cpp Marks 84 /100\n",
      "PythonMarks: 96 /100\n",
      "Ruby_Marks: 45 /100\n",
      "SQL_Marks: 65 /100\n",
      "The total marks: 365 /500\n",
      "Percentage are: 73.0 %\n",
      "Your Grade is B\n"
     ]
    }
   ],
   "source": [
    "def get_total(Num1,Num2,Num3,Num4,Num5):\n",
    "    return Num1+Num2+Num3+Num4+Num5\n",
    "\n",
    "def total_per(total_marks):\n",
    "    return (total_marks/500)*100\n",
    "\n",
    "Student_Name = str(input(\"Enter Student Name :\"))\n",
    "Roll_Number = int(input(\"Enter Roll Number :\"))\n",
    "Class = str(input(\"Enter Class :\"))\n",
    "JAVA_Marks = int(input(\"Enter JAVA Marks :\"))\n",
    "Cpp_Marks = int(input(\"Enter C++ Marks :\"))\n",
    "Python_Marks = int(input(\"Enter Python Marks :\"))\n",
    "Ruby_Marks = int(input(\"Enter Ruby Marks :\"))\n",
    "SQL_Marks = int(input(\"Enter SQL Marks :\"))\n",
    "\n",
    "print(\"student name is:\",Student_Name)\n",
    "print(\"Roll name is:\",Roll_Number)\n",
    "print(\"Class is:\",Class)\n",
    "print(\"JAVA Marks:\",JAVA_Marks,\"/100\")\n",
    "print(\"Cpp Marks\",Cpp_Marks,\"/100\")\n",
    "print(\"PythonMarks:\",Python_Marks,\"/100\")\n",
    "print(\"Ruby_Marks:\",Ruby_Marks,\"/100\")\n",
    "print(\"SQL_Marks:\",SQL_Marks,\"/100\")\n",
    "\n",
    "Total_Marks = get_total(JAVA_Marks, Cpp_Marks, Python_Marks, Ruby_Marks, SQL_Marks)\n",
    "print(\"The total marks:\", Total_Marks, \"/500\")\n",
    "\n",
    "Percentage = total_per(Total_Marks)\n",
    "print(\"Percentage are:\",Percentage,\"%\")\n",
    "\n",
    "Grade = total_per(Total_Marks)\n",
    "if (Percentage < 35):\n",
    "    print(\"You are FAIL.\")\n",
    "elif (Percentage < 50):\n",
    "    print(\"Your Grade is C\")\n",
    "elif (Percentage < 75):\n",
    "    print(\"Your Grade is B\")\n",
    "elif (Percentage < 100):\n",
    "    print(\"Your Grade is A\")"
   ]
  }
 ],
 "metadata": {
  "kernelspec": {
   "display_name": "Python 3 (ipykernel)",
   "language": "python",
   "name": "python3"
  },
  "language_info": {
   "codemirror_mode": {
    "name": "ipython",
    "version": 3
   },
   "file_extension": ".py",
   "mimetype": "text/x-python",
   "name": "python",
   "nbconvert_exporter": "python",
   "pygments_lexer": "ipython3",
   "version": "3.12.7"
  }
 },
 "nbformat": 4,
 "nbformat_minor": 5
}
